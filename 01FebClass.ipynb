{
 "cells": [
  {
   "cell_type": "code",
   "execution_count": 1,
   "id": "61534794-5e51-41ab-9987-372482c3fcdc",
   "metadata": {},
   "outputs": [],
   "source": [
    "d={}"
   ]
  },
  {
   "cell_type": "code",
   "execution_count": 2,
   "id": "a8984ce1-50ea-4f65-bdd7-dd07cf35e2c4",
   "metadata": {},
   "outputs": [
    {
     "data": {
      "text/plain": [
       "dict"
      ]
     },
     "execution_count": 2,
     "metadata": {},
     "output_type": "execute_result"
    }
   ],
   "source": [
    "type(d)"
   ]
  },
  {
   "cell_type": "code",
   "execution_count": 3,
   "id": "4839e138-ff92-4aba-902b-310a5f5c320b",
   "metadata": {},
   "outputs": [],
   "source": [
    "d1={'key':\"abc\"}"
   ]
  },
  {
   "cell_type": "code",
   "execution_count": 4,
   "id": "509ed802-afa3-4324-b50a-f99f6a113afd",
   "metadata": {},
   "outputs": [
    {
     "data": {
      "text/plain": [
       "{'key': 'abc'}"
      ]
     },
     "execution_count": 4,
     "metadata": {},
     "output_type": "execute_result"
    }
   ],
   "source": [
    "d1"
   ]
  },
  {
   "cell_type": "code",
   "execution_count": 5,
   "id": "21a02e38-21b4-4b7c-af29-44008612ba67",
   "metadata": {},
   "outputs": [],
   "source": [
    "d2={'name':\"rohit\" , \"email\":\"abc@gmail.com\" , \"no\" :123}"
   ]
  },
  {
   "cell_type": "code",
   "execution_count": 6,
   "id": "25e381a3-fc9a-48e9-8d08-b2c4b8093ce3",
   "metadata": {},
   "outputs": [
    {
     "data": {
      "text/plain": [
       "{'name': 'rohit', 'email': 'abc@gmail.com', 'no': 123}"
      ]
     },
     "execution_count": 6,
     "metadata": {},
     "output_type": "execute_result"
    }
   ],
   "source": [
    "d2"
   ]
  },
  {
   "cell_type": "code",
   "execution_count": 14,
   "id": "8a4e742c-7ce0-4f6b-87d1-9e448350993a",
   "metadata": {},
   "outputs": [],
   "source": [
    "d3={234:\"abc\" , '_acom' : \"def\" , True :24343}"
   ]
  },
  {
   "cell_type": "code",
   "execution_count": 15,
   "id": "9b1e70fe-8852-4ffb-adef-6e594fef01e8",
   "metadata": {},
   "outputs": [
    {
     "data": {
      "text/plain": [
       "'abc'"
      ]
     },
     "execution_count": 15,
     "metadata": {},
     "output_type": "execute_result"
    }
   ],
   "source": [
    "d3[234]"
   ]
  },
  {
   "cell_type": "code",
   "execution_count": 16,
   "id": "11b223a1-69ec-4c25-a9d9-2639b7c94ae2",
   "metadata": {},
   "outputs": [
    {
     "data": {
      "text/plain": [
       "24343"
      ]
     },
     "execution_count": 16,
     "metadata": {},
     "output_type": "execute_result"
    }
   ],
   "source": [
    "d3[1]"
   ]
  },
  {
   "cell_type": "code",
   "execution_count": 18,
   "id": "5a20bdd6-b3c7-4454-8c5b-864299f78bc3",
   "metadata": {},
   "outputs": [],
   "source": [
    "d4={'name' : 'abcd' , 'mail_id' : 'abc@gmail.com' , 'name' :'rohit'}"
   ]
  },
  {
   "cell_type": "code",
   "execution_count": 19,
   "id": "2aa0d7ea-afd1-4f37-8aad-93e140c404f8",
   "metadata": {},
   "outputs": [
    {
     "data": {
      "text/plain": [
       "'rohit'"
      ]
     },
     "execution_count": 19,
     "metadata": {},
     "output_type": "execute_result"
    }
   ],
   "source": [
    "d4['name']"
   ]
  },
  {
   "cell_type": "code",
   "execution_count": 20,
   "id": "856dc052-5bbe-4501-a2a6-a4c0ec553405",
   "metadata": {},
   "outputs": [],
   "source": [
    "d5={'company' :'pwskills' , 'course' :['webdev' ,'datascience' ,'java']}"
   ]
  },
  {
   "cell_type": "code",
   "execution_count": 21,
   "id": "6af3b881-5bc9-462e-9d89-8f2b5b96d754",
   "metadata": {},
   "outputs": [
    {
     "data": {
      "text/plain": [
       "{}"
      ]
     },
     "execution_count": 21,
     "metadata": {},
     "output_type": "execute_result"
    }
   ],
   "source": [
    "d"
   ]
  },
  {
   "cell_type": "code",
   "execution_count": 22,
   "id": "3e56c4c1-917e-416e-bbd4-475e529bf321",
   "metadata": {},
   "outputs": [
    {
     "data": {
      "text/plain": [
       "{'company': 'pwskills', 'course': ['webdev', 'datascience', 'java']}"
      ]
     },
     "execution_count": 22,
     "metadata": {},
     "output_type": "execute_result"
    }
   ],
   "source": [
    "d5"
   ]
  },
  {
   "cell_type": "code",
   "execution_count": 23,
   "id": "a4799ddd-d8c3-4427-956c-6c18d9cabd69",
   "metadata": {},
   "outputs": [
    {
     "data": {
      "text/plain": [
       "['webdev', 'datascience', 'java']"
      ]
     },
     "execution_count": 23,
     "metadata": {},
     "output_type": "execute_result"
    }
   ],
   "source": [
    "d5['course']"
   ]
  },
  {
   "cell_type": "code",
   "execution_count": 27,
   "id": "44e9942a-f457-411c-906f-16d40d5d8e47",
   "metadata": {},
   "outputs": [],
   "source": [
    "d6={\"number\" : [2,3,44,55,66] , \"assignment\" : (1,2,3,4,5,6) , 'launchdate' : {28,22,12} , 'class_time' : {'webdev' : 8, 'datasciencemasters' : '8'}}"
   ]
  },
  {
   "cell_type": "code",
   "execution_count": 28,
   "id": "5ea1f908-70a6-4242-ae5a-7ce7728625b7",
   "metadata": {},
   "outputs": [
    {
     "data": {
      "text/plain": [
       "{'number': [2, 3, 44, 55, 66],\n",
       " 'assignment': (1, 2, 3, 4, 5, 6),\n",
       " 'launchdate': {12, 22, 28},\n",
       " 'class_time': {'webdev': 8, 'datasciencemasters': '8'}}"
      ]
     },
     "execution_count": 28,
     "metadata": {},
     "output_type": "execute_result"
    }
   ],
   "source": [
    "d6"
   ]
  },
  {
   "cell_type": "code",
   "execution_count": 30,
   "id": "210b44fb-4f5a-44ce-a3cd-d4929c080783",
   "metadata": {},
   "outputs": [
    {
     "data": {
      "text/plain": [
       "'8'"
      ]
     },
     "execution_count": 30,
     "metadata": {},
     "output_type": "execute_result"
    }
   ],
   "source": [
    "d6['class_time']['datasciencemasters']"
   ]
  },
  {
   "cell_type": "code",
   "execution_count": 31,
   "id": "78502241-8d5c-4c05-ac1f-1946d23f6ada",
   "metadata": {},
   "outputs": [],
   "source": [
    "d6['mentor']=['sudhanshu' ,'anurag' ,'haider']"
   ]
  },
  {
   "cell_type": "code",
   "execution_count": 32,
   "id": "952d4e43-7edb-4319-8849-82e6b59e772b",
   "metadata": {},
   "outputs": [
    {
     "data": {
      "text/plain": [
       "{'number': [2, 3, 44, 55, 66],\n",
       " 'assignment': (1, 2, 3, 4, 5, 6),\n",
       " 'launchdate': {12, 22, 28},\n",
       " 'class_time': {'webdev': 8, 'datasciencemasters': '8'},\n",
       " 'mentor': ['sudhanshu', 'anurag', 'haider']}"
      ]
     },
     "execution_count": 32,
     "metadata": {},
     "output_type": "execute_result"
    }
   ],
   "source": [
    "d6"
   ]
  },
  {
   "cell_type": "code",
   "execution_count": 33,
   "id": "59e126ae-8137-4f06-a1ba-cb3db6e41938",
   "metadata": {},
   "outputs": [],
   "source": [
    "del d6['number']"
   ]
  },
  {
   "cell_type": "code",
   "execution_count": 34,
   "id": "bfa622cf-9e6c-41a2-b2cc-01edd27fc52f",
   "metadata": {},
   "outputs": [
    {
     "data": {
      "text/plain": [
       "{'assignment': (1, 2, 3, 4, 5, 6),\n",
       " 'launchdate': {12, 22, 28},\n",
       " 'class_time': {'webdev': 8, 'datasciencemasters': '8'},\n",
       " 'mentor': ['sudhanshu', 'anurag', 'haider']}"
      ]
     },
     "execution_count": 34,
     "metadata": {},
     "output_type": "execute_result"
    }
   ],
   "source": [
    "d6"
   ]
  },
  {
   "cell_type": "code",
   "execution_count": 35,
   "id": "a66d7dd7-2f56-4c62-8011-ebd6b9abd0f9",
   "metadata": {},
   "outputs": [
    {
     "data": {
      "text/plain": [
       "dict_keys(['assignment', 'launchdate', 'class_time', 'mentor'])"
      ]
     },
     "execution_count": 35,
     "metadata": {},
     "output_type": "execute_result"
    }
   ],
   "source": [
    "d6.keys()"
   ]
  },
  {
   "cell_type": "code",
   "execution_count": 37,
   "id": "29a3fc4d-dc4c-4cac-a524-34448db5ab9a",
   "metadata": {},
   "outputs": [
    {
     "data": {
      "text/plain": [
       "['assignment', 'launchdate', 'class_time', 'mentor']"
      ]
     },
     "execution_count": 37,
     "metadata": {},
     "output_type": "execute_result"
    }
   ],
   "source": [
    "list(d6.keys())"
   ]
  },
  {
   "cell_type": "code",
   "execution_count": 38,
   "id": "4b6f6744-1a14-4db2-b761-41cfa668135c",
   "metadata": {},
   "outputs": [
    {
     "data": {
      "text/plain": [
       "[(1, 2, 3, 4, 5, 6),\n",
       " {12, 22, 28},\n",
       " {'webdev': 8, 'datasciencemasters': '8'},\n",
       " ['sudhanshu', 'anurag', 'haider']]"
      ]
     },
     "execution_count": 38,
     "metadata": {},
     "output_type": "execute_result"
    }
   ],
   "source": [
    "list(d6.values())"
   ]
  },
  {
   "cell_type": "code",
   "execution_count": null,
   "id": "7e95c843-a1be-4deb-88c4-b75fb1bd0593",
   "metadata": {},
   "outputs": [],
   "source": []
  },
  {
   "cell_type": "code",
   "execution_count": 42,
   "id": "0656d23f-df91-4f7d-88de-03a666083662",
   "metadata": {},
   "outputs": [
    {
     "name": "stdin",
     "output_type": "stream",
     "text": [
      "Enter your marks :  40\n"
     ]
    },
    {
     "name": "stdout",
     "output_type": "stream",
     "text": [
      "You will be in A2 batch\n"
     ]
    }
   ],
   "source": [
    "marks=int(input(\"Enter your marks : \"))\n",
    "if marks >=80 :\n",
    "    print(\"You will be the part of the A0 Batch\")\n",
    "    \n",
    "elif marks >=60 and marks<80 :\n",
    "    print(\"You will be a part of A1 batch . \")\n",
    "    \n",
    "elif marks >=40 and marks <60 :\n",
    "    print(\"You will be in A2 batch\")\n",
    "    \n",
    "else:\n",
    "    print(\"You will be in A3 batch.\")"
   ]
  },
  {
   "cell_type": "code",
   "execution_count": 1,
   "id": "5b5c768d-91c6-46a9-a5f1-a3752b3e3fc3",
   "metadata": {},
   "outputs": [
    {
     "name": "stdin",
     "output_type": "stream",
     "text": [
      "Whst is the price ? 40\n",
      "What is the discount? 2\n"
     ]
    }
   ],
   "source": [
    "price=int(input(\"Whst is the price ?\"))\n",
    "discount=int(input(\"What is the discount?\"))\n"
   ]
  },
  {
   "cell_type": "code",
   "execution_count": 4,
   "id": "303f29a8-7a03-4e2e-af1a-63f73cd0a67f",
   "metadata": {},
   "outputs": [
    {
     "name": "stdin",
     "output_type": "stream",
     "text": [
      "What is the price ? 00\n"
     ]
    },
    {
     "name": "stdout",
     "output_type": "stream",
     "text": [
      "purchase\n"
     ]
    }
   ],
   "source": [
    "price=int(input(\"What is the price ?\"))\n",
    "if price>=1000 :\n",
    "    print(\"Not buy\")\n",
    "else:\n",
    "    print(\"purchase\")"
   ]
  },
  {
   "cell_type": "code",
   "execution_count": 10,
   "id": "e1999eea-530f-4a15-9437-763e5c361d1a",
   "metadata": {},
   "outputs": [
    {
     "name": "stdin",
     "output_type": "stream",
     "text": [
      "What is the price ? 500000\n"
     ]
    },
    {
     "name": "stdout",
     "output_type": "stream",
     "text": [
      "do not purchase\n",
      "this is too much !\n"
     ]
    }
   ],
   "source": [
    "price=int(input(\"What is the price ?\"))\n",
    "if price >1000 :\n",
    "    print(\"do not purchase\")\n",
    "    if price>=5000 :\n",
    "        print(\"this is too much !\")\n",
    "    elif price<2000 :\n",
    "            print(\"it's ok\")\n",
    "else:\n",
    "    print(\"This is not acceptable !\")"
   ]
  },
  {
   "cell_type": "code",
   "execution_count": 13,
   "id": "4fa05c4e-4f97-43cb-bd49-b76feac47aad",
   "metadata": {},
   "outputs": [
    {
     "name": "stdout",
     "output_type": "stream",
     "text": [
      "2\n",
      "3\n",
      "4\n",
      "5\n",
      "6\n",
      "7\n",
      "8\n",
      "9\n"
     ]
    }
   ],
   "source": [
    "l1=[]\n",
    "l=[1,2,3,4,5,6,7,8]\n",
    "for i in l :\n",
    "    print(i+1)\n",
    "    l1.append(i+1)"
   ]
  },
  {
   "cell_type": "code",
   "execution_count": 14,
   "id": "7ce8cbff-01c4-474e-a67e-81787ccaaeb6",
   "metadata": {},
   "outputs": [
    {
     "data": {
      "text/plain": [
       "[2, 3, 4, 5, 6, 7, 8, 9]"
      ]
     },
     "execution_count": 14,
     "metadata": {},
     "output_type": "execute_result"
    }
   ],
   "source": [
    "l1"
   ]
  },
  {
   "cell_type": "code",
   "execution_count": 15,
   "id": "daaa82c1-f5c0-45ae-aa95-0cf57d8c4e74",
   "metadata": {},
   "outputs": [
    {
     "data": {
      "text/plain": [
       "[1, 2, 3, 4, 5, 6, 7, 8]"
      ]
     },
     "execution_count": 15,
     "metadata": {},
     "output_type": "execute_result"
    }
   ],
   "source": [
    "l"
   ]
  },
  {
   "cell_type": "code",
   "execution_count": 17,
   "id": "e2fd143a-4cf8-4683-b549-96887e8801a7",
   "metadata": {},
   "outputs": [],
   "source": [
    "l=[\"sudh\" ,\"kumar\" , \"pwskills\" , \"course\" ]"
   ]
  },
  {
   "cell_type": "code",
   "execution_count": 19,
   "id": "ef9b9c42-7adc-48b7-944b-9645dbf78ae4",
   "metadata": {},
   "outputs": [
    {
     "name": "stdout",
     "output_type": "stream",
     "text": [
      "sudh\n",
      "kumar\n",
      "pwskills\n",
      "course\n"
     ]
    }
   ],
   "source": [
    "l1=[]\n",
    "for i in l :\n",
    "    print(i)\n",
    "    l1.append(i.upper())"
   ]
  },
  {
   "cell_type": "code",
   "execution_count": 20,
   "id": "a2f6ad44-490f-449d-bf4f-a10f87dca4ac",
   "metadata": {},
   "outputs": [
    {
     "data": {
      "text/plain": [
       "['SUDH', 'KUMAR', 'PWSKILLS', 'COURSE']"
      ]
     },
     "execution_count": 20,
     "metadata": {},
     "output_type": "execute_result"
    }
   ],
   "source": [
    "l1"
   ]
  },
  {
   "cell_type": "code",
   "execution_count": 21,
   "id": "41f8e229-fee0-4f76-abd3-b7e9a6921fda",
   "metadata": {},
   "outputs": [],
   "source": [
    "l=[1,2,3,4,4,\"rohit\" ,\"kumar\" , 324.456 ,\"abc\"]"
   ]
  },
  {
   "cell_type": "code",
   "execution_count": 23,
   "id": "18f9d1aa-db3f-453b-b75a-3545508205b7",
   "metadata": {},
   "outputs": [],
   "source": [
    "l1=[]\n",
    "l2=[]\n",
    "for i in l :\n",
    "    if type(i)==int or type(i)==float :\n",
    "        l1.append(i)\n",
    "    else :\n",
    "        l2.append(i)\n",
    "        "
   ]
  },
  {
   "cell_type": "code",
   "execution_count": 24,
   "id": "cb57d1f2-bccf-41c5-b85c-3598997c3d78",
   "metadata": {},
   "outputs": [
    {
     "data": {
      "text/plain": [
       "['rohit', 'kumar', 'abc']"
      ]
     },
     "execution_count": 24,
     "metadata": {},
     "output_type": "execute_result"
    }
   ],
   "source": [
    "l1\n",
    "l2"
   ]
  },
  {
   "cell_type": "code",
   "execution_count": 25,
   "id": "b88729fb-37ef-4e16-b24c-ea10361b935e",
   "metadata": {},
   "outputs": [
    {
     "data": {
      "text/plain": [
       "[1, 2, 3, 4, 4, 324.456]"
      ]
     },
     "execution_count": 25,
     "metadata": {},
     "output_type": "execute_result"
    }
   ],
   "source": [
    "l1"
   ]
  },
  {
   "cell_type": "code",
   "execution_count": 26,
   "id": "36f709af-6cda-451a-b8e0-bc3d51d9cc27",
   "metadata": {},
   "outputs": [
    {
     "data": {
      "text/plain": [
       "['rohit', 'kumar', 'abc']"
      ]
     },
     "execution_count": 26,
     "metadata": {},
     "output_type": "execute_result"
    }
   ],
   "source": [
    "l2"
   ]
  },
  {
   "cell_type": "code",
   "execution_count": null,
   "id": "8c042821-8143-4a58-9e7f-cc3737cfe93d",
   "metadata": {},
   "outputs": [],
   "source": []
  }
 ],
 "metadata": {
  "kernelspec": {
   "display_name": "Python 3 (ipykernel)",
   "language": "python",
   "name": "python3"
  },
  "language_info": {
   "codemirror_mode": {
    "name": "ipython",
    "version": 3
   },
   "file_extension": ".py",
   "mimetype": "text/x-python",
   "name": "python",
   "nbconvert_exporter": "python",
   "pygments_lexer": "ipython3",
   "version": "3.10.8"
  }
 },
 "nbformat": 4,
 "nbformat_minor": 5
}
