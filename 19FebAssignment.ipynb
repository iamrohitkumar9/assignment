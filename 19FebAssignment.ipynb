{
 "cells": [
  {
   "cell_type": "code",
   "execution_count": null,
   "id": "938a19dd-476f-4cd4-ad64-be3f1392ff79",
   "metadata": {},
   "outputs": [],
   "source": [
    "# Question 1 :\n",
    "\n",
    "# Flask is a micro web framework written in Python. It is designed to make getting\n",
    "# started quick and easy, with the ability to scale up to complex applications. Flask \n",
    "# provides tools, libraries, and technologies that allow developers to build a web \n",
    "# application.\n",
    "\n",
    "\n",
    "# Advantages of Flask Framework: \n",
    "# 1. Easy to get started: Flask has a simple and lightweight codebase that makes it \n",
    "# easy for developers to get started quickly. \n",
    "# 2. Flexible: Flask allows developers to choose the tools and libraries they want to \n",
    "# use for their project. \n",
    "# 3. Scalable: Flask can be scaled up from a single-page application to a complex web \n",
    "# application with multiple components. \n",
    "# 4. Secure: Flask provides secure features such as session management, password hashing, \n",
    "# and encryption out of the box. \n",
    "# 5. Extensible: Flask can be extended with additional libraries and plugins for added \n",
    "# functionality.\n"
   ]
  },
  {
   "cell_type": "markdown",
   "id": "dc28a5bc-180d-4f37-90ac-cccd0175fb8f",
   "metadata": {},
   "source": [
    "# Question 2 :\n",
    "![](flask1.png)"
   ]
  },
  {
   "cell_type": "markdown",
   "id": "c8ee0906-113c-4b9d-a235-7e71d8c8c513",
   "metadata": {},
   "source": []
  },
  {
   "cell_type": "code",
   "execution_count": null,
   "id": "89af65c1-af6c-4e64-8743-ba5805c12f99",
   "metadata": {},
   "outputs": [],
   "source": [
    "# Question 3 :\n",
    "\n",
    "# App routing in Flask is the process of mapping URLs to functions that are defined in the application. It is used to \n",
    "# create a web application by defining the URLs that should be associated with each function. App routing allows us to \n",
    "# create different pages for our web application, and it also allows us to define how users can interact with our application.\n",
    "# App routing helps us organize our code and makes it easier for us to maintain our web applications.\n",
    "\n"
   ]
  },
  {
   "cell_type": "markdown",
   "id": "ad83d8e7-4ca8-4121-81d4-aa66dd4a61ab",
   "metadata": {},
   "source": [
    "# Question 4 :\n",
    "![](flaskq41.png)\n",
    "![](flaskq42.png)"
   ]
  },
  {
   "cell_type": "markdown",
   "id": "5a3763fd-6e44-4be9-aabb-0154806f601e",
   "metadata": {},
   "source": []
  },
  {
   "cell_type": "code",
   "execution_count": null,
   "id": "5d25977f-d3f2-4bf5-8207-28c126f9ead6",
   "metadata": {},
   "outputs": [],
   "source": [
    "# Question 5 :\n",
    "\n",
    "# The url_for() function is used in Flask for URL Building.\n",
    "# Example:\n",
    "\n",
    "from flask import Flask, url_for\n",
    "app = Flask(__name__)\n",
    " \n",
    "@app.route('/')\n",
    "def index():\n",
    "   return 'Index Page'\n",
    " \n",
    "@app.route('/hello')\n",
    "def hello():\n",
    "   return 'Hello World'\n",
    "\n",
    " \n",
    "with app.test_request_context():  # This is used to create a context for the request so that the url_for() function can be used. \n",
    "\n",
    "   print(url_for('index')) # Output: / \n",
    "\n",
    "   print(url_for('hello')) # Output: /hello\n"
   ]
  }
 ],
 "metadata": {
  "kernelspec": {
   "display_name": "Python 3 (ipykernel)",
   "language": "python",
   "name": "python3"
  },
  "language_info": {
   "codemirror_mode": {
    "name": "ipython",
    "version": 3
   },
   "file_extension": ".py",
   "mimetype": "text/x-python",
   "name": "python",
   "nbconvert_exporter": "python",
   "pygments_lexer": "ipython3",
   "version": "3.10.8"
  }
 },
 "nbformat": 4,
 "nbformat_minor": 5
}
