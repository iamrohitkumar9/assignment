{
 "cells": [
  {
   "cell_type": "code",
   "execution_count": 2,
   "id": "7fe8f843-e191-4b37-bf00-0b2c4c8ef718",
   "metadata": {},
   "outputs": [],
   "source": [
    "# Question 1"
   ]
  },
  {
   "cell_type": "code",
   "execution_count": 1,
   "id": "d32d5816-998c-407e-98d8-c4e19d81b9ae",
   "metadata": {},
   "outputs": [
    {
     "name": "stdout",
     "output_type": "stream",
     "text": [
      "0     4\n",
      "1     8\n",
      "2    15\n",
      "3    16\n",
      "4    23\n",
      "5    42\n",
      "dtype: int64\n"
     ]
    }
   ],
   "source": [
    " import pandas as pd\n",
    "\n",
    "data = [4, 8, 15, 16, 23, 42]\n",
    "series = pd.Series(data)\n",
    "print(series)"
   ]
  },
  {
   "cell_type": "code",
   "execution_count": null,
   "id": "8b32e1de-a956-42e7-ba7e-034b9ea607d5",
   "metadata": {},
   "outputs": [],
   "source": []
  },
  {
   "cell_type": "code",
   "execution_count": 3,
   "id": "0a1c5b7c-5a80-4d1f-b8d4-2c5e7ec45b50",
   "metadata": {},
   "outputs": [],
   "source": [
    "# Question 2"
   ]
  },
  {
   "cell_type": "code",
   "execution_count": 4,
   "id": "66914325-edd8-4fcc-8724-cd219eae7ded",
   "metadata": {},
   "outputs": [
    {
     "name": "stdout",
     "output_type": "stream",
     "text": [
      "0     1\n",
      "1     2\n",
      "2     3\n",
      "3     4\n",
      "4     5\n",
      "5     6\n",
      "6     7\n",
      "7     8\n",
      "8     9\n",
      "9    10\n",
      "dtype: int64\n"
     ]
    }
   ],
   "source": [
    "my_list = [1, 2, 3, 4, 5, 6, 7, 8, 9, 10]\n",
    "\n",
    "import pandas as pd\n",
    "\n",
    "series_list = pd.Series(my_list)\n",
    "print(series_list)"
   ]
  },
  {
   "cell_type": "code",
   "execution_count": null,
   "id": "b073aa48-ebc9-4817-9e39-a72c47760728",
   "metadata": {},
   "outputs": [],
   "source": []
  },
  {
   "cell_type": "code",
   "execution_count": 5,
   "id": "664562e0-a7d2-465b-bc12-d68c6124ca6f",
   "metadata": {},
   "outputs": [],
   "source": [
    "# Question 3"
   ]
  },
  {
   "cell_type": "code",
   "execution_count": 6,
   "id": "df9ffd67-81d3-478d-a47f-c47c983f069e",
   "metadata": {},
   "outputs": [
    {
     "name": "stdout",
     "output_type": "stream",
     "text": [
      "     Name  Age  Gender\n",
      "0   Alice   25  Female\n",
      "1     Bob   30    Male\n",
      "2  Claire   27  Female\n"
     ]
    }
   ],
   "source": [
    "import pandas as pd\n",
    "data = {'Name': ['Alice', 'Bob', 'Claire'], \n",
    "        'Age': [25, 30, 27], \n",
    "        'Gender': ['Female', 'Male', 'Female']}\n",
    "df = pd.DataFrame(data)\n",
    "print(df)"
   ]
  },
  {
   "cell_type": "code",
   "execution_count": null,
   "id": "265232aa-10cf-4b5f-98ab-4437604720e4",
   "metadata": {},
   "outputs": [],
   "source": []
  },
  {
   "cell_type": "code",
   "execution_count": 7,
   "id": "6db79c15-c4d9-4acd-b9ea-fa286482dfb6",
   "metadata": {},
   "outputs": [],
   "source": [
    "# Question 4"
   ]
  },
  {
   "cell_type": "code",
   "execution_count": 8,
   "id": "348cda58-24f5-4c97-9212-df1e0991e660",
   "metadata": {},
   "outputs": [],
   "source": [
    " DataFrame is a two-dimensional data structure in pandas. It is similar to a spreadsheet with rows and columns. It is different from pandas.Series in that it can contain multiple data types, such as strings, integers, floats, and booleans.\n",
    "\n",
    "For example, let's say we have a DataFrame called 'df' with three columns: 'Name', 'Age', and 'Gender'. The Name column contains strings, the Age column contains integers, and the Gender column contains strings. This DataFrame would look something like this: \n",
    "\n",
    "Name | Age | Gender \n",
    "John | 25 | Male \n",
    "Jane | 30 | Female \n",
    "Jack | 28 | Male \n",
    "\n",
    "In contrast, a pandas.Series would only contain one type of data (e.g., strings or integers). For example, if we had a Series called 'ages' containing only the ages of the people in our DataFrame above, it would look like this: \n",
    "\n",
    "Ages \n",
    "25 \n",
    "30 \n",
    "28"
   ]
  },
  {
   "cell_type": "code",
   "execution_count": null,
   "id": "1dcfafc8-5736-4a17-991d-40e4787976ef",
   "metadata": {},
   "outputs": [],
   "source": []
  },
  {
   "cell_type": "code",
   "execution_count": 9,
   "id": "223f88f2-c7fb-4006-99f4-6f0c202c8a47",
   "metadata": {},
   "outputs": [],
   "source": [
    "# Question 5\n"
   ]
  },
  {
   "cell_type": "code",
   "execution_count": null,
   "id": "4e36af7d-16c3-4f99-a615-4c8a493499bc",
   "metadata": {},
   "outputs": [],
   "source": [
    "Some common functions used for data manipulation are:\n",
    "    \n",
    "1. df.head() - This function returns the first n rows of a DataFrame, where n is an integer value. This can be used to quickly view the first few rows of a DataFrame to get an idea of what the data looks like.\n",
    "\n",
    "2. df.tail() - This function returns the last n rows of a DataFrame, where n is an integer value. This can be used to quickly view the last few rows of a DataFrame to get an idea of what the data looks like.\n",
    "\n",
    "3. df.describe() - This function returns descriptive statistics that summarize the central tendency, dispersion and shape of a dataset’s distribution, excluding NaN values. This can be used to quickly get an overview of a dataset and identify any outliers or trends in the data.\n",
    "\n",
    "4. df.sort_values() - This function sorts a DataFrame by one or more columns in ascending or descending order and returns a new DataFrame with the sorted values. This can be used to sort data by specific columns in order to analyze it more easily or prepare it for further processing or visualization."
   ]
  },
  {
   "cell_type": "code",
   "execution_count": 13,
   "id": "2f3824cf-f4cd-4843-ad78-f6780839ea5b",
   "metadata": {},
   "outputs": [
    {
     "data": {
      "text/html": [
       "<div>\n",
       "<style scoped>\n",
       "    .dataframe tbody tr th:only-of-type {\n",
       "        vertical-align: middle;\n",
       "    }\n",
       "\n",
       "    .dataframe tbody tr th {\n",
       "        vertical-align: top;\n",
       "    }\n",
       "\n",
       "    .dataframe thead th {\n",
       "        text-align: right;\n",
       "    }\n",
       "</style>\n",
       "<table border=\"1\" class=\"dataframe\">\n",
       "  <thead>\n",
       "    <tr style=\"text-align: right;\">\n",
       "      <th></th>\n",
       "      <th>Name</th>\n",
       "      <th>Age</th>\n",
       "      <th>Gender</th>\n",
       "    </tr>\n",
       "  </thead>\n",
       "  <tbody>\n",
       "    <tr>\n",
       "      <th>0</th>\n",
       "      <td>Alice</td>\n",
       "      <td>25</td>\n",
       "      <td>Female</td>\n",
       "    </tr>\n",
       "    <tr>\n",
       "      <th>1</th>\n",
       "      <td>Bob</td>\n",
       "      <td>30</td>\n",
       "      <td>Male</td>\n",
       "    </tr>\n",
       "    <tr>\n",
       "      <th>2</th>\n",
       "      <td>Claire</td>\n",
       "      <td>27</td>\n",
       "      <td>Female</td>\n",
       "    </tr>\n",
       "  </tbody>\n",
       "</table>\n",
       "</div>"
      ],
      "text/plain": [
       "     Name  Age  Gender\n",
       "0   Alice   25  Female\n",
       "1     Bob   30    Male\n",
       "2  Claire   27  Female"
      ]
     },
     "execution_count": 13,
     "metadata": {},
     "output_type": "execute_result"
    }
   ],
   "source": [
    "data = {'Name': ['Alice', 'Bob', 'Claire'], \n",
    "        'Age': [25, 30, 27], \n",
    "        'Gender': ['Female', 'Male', 'Female']}\n",
    "df = pd.DataFrame(data)\n",
    "df.head()"
   ]
  },
  {
   "cell_type": "code",
   "execution_count": null,
   "id": "c217a9dd-8d8b-4af1-af0c-3c7182ae763a",
   "metadata": {},
   "outputs": [],
   "source": []
  },
  {
   "cell_type": "code",
   "execution_count": null,
   "id": "48bd3c3e-e647-458c-ba13-bee3ee880f97",
   "metadata": {},
   "outputs": [],
   "source": [
    "# Question 6"
   ]
  },
  {
   "cell_type": "code",
   "execution_count": null,
   "id": "076982c6-6954-4954-83f8-1737aeec0203",
   "metadata": {},
   "outputs": [],
   "source": [
    "DataFrame and Panel are mutable in nature."
   ]
  },
  {
   "cell_type": "code",
   "execution_count": null,
   "id": "4b54e6fa-518a-48eb-839c-631fbfc2893f",
   "metadata": {},
   "outputs": [],
   "source": []
  },
  {
   "cell_type": "code",
   "execution_count": 14,
   "id": "d0692c44-5047-4fd7-924c-38779ba20545",
   "metadata": {},
   "outputs": [],
   "source": [
    "# Question 7"
   ]
  },
  {
   "cell_type": "code",
   "execution_count": 15,
   "id": "f52591fa-3f21-47c3-8a6a-ea0c529e258e",
   "metadata": {},
   "outputs": [
    {
     "name": "stdout",
     "output_type": "stream",
     "text": [
      "   Name  Age\n",
      "0  John   25\n",
      "1  Jane   30\n",
      "2   Joe   28\n",
      "3  Jill   32\n"
     ]
    }
   ],
   "source": [
    "# A DataFrame can be created using multiple Series. A Series is a one-dimensional array-like object containing an array of data and an associated array of labels, called its index.\n",
    "\n",
    "# For example, let's say we have two Series: one containing the names of four people (John, Jane, Joe, and Jill) and another containing their respective ages (25, 30, 28, and 32). We can create a DataFrame from these two Series as follows:\n",
    "\n",
    "import pandas as pd \n",
    " \n",
    "names = pd.Series(['John', 'Jane', 'Joe', 'Jill']) \n",
    "ages = pd.Series([25, 30, 28, 32]) \n",
    "people_df = pd.DataFrame({'Name': names,'Age': ages}) \n",
    "print(people_df) \n"
   ]
  },
  {
   "cell_type": "code",
   "execution_count": null,
   "id": "425ab3fd-9064-4033-94db-a9442c7afde3",
   "metadata": {},
   "outputs": [],
   "source": []
  }
 ],
 "metadata": {
  "kernelspec": {
   "display_name": "Python 3 (ipykernel)",
   "language": "python",
   "name": "python3"
  },
  "language_info": {
   "codemirror_mode": {
    "name": "ipython",
    "version": 3
   },
   "file_extension": ".py",
   "mimetype": "text/x-python",
   "name": "python",
   "nbconvert_exporter": "python",
   "pygments_lexer": "ipython3",
   "version": "3.10.6"
  }
 },
 "nbformat": 4,
 "nbformat_minor": 5
}
